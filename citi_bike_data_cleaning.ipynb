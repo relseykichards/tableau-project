{
 "cells": [
  {
   "cell_type": "code",
   "execution_count": 2,
   "id": "ed3d76e9-282b-4eff-964e-c9ad110d4003",
   "metadata": {},
   "outputs": [],
   "source": [
    "import pandas as pd\n"
   ]
  },
  {
   "cell_type": "code",
   "execution_count": 3,
   "id": "617d90f1-4004-4f00-9031-a77fdad15f12",
   "metadata": {},
   "outputs": [
    {
     "name": "stderr",
     "output_type": "stream",
     "text": [
      "/var/folders/26/chsh3pkx14dg5ywx894b8gwm0000gn/T/ipykernel_41868/316371094.py:2: DtypeWarning: Columns (5,7) have mixed types. Specify dtype option on import or set low_memory=False.\n",
      "  citi_2022 = pd.read_csv(\"raw_data/2022_05.csv\")\n",
      "/var/folders/26/chsh3pkx14dg5ywx894b8gwm0000gn/T/ipykernel_41868/316371094.py:3: DtypeWarning: Columns (5,7) have mixed types. Specify dtype option on import or set low_memory=False.\n",
      "  citi_2023 = pd.read_csv(\"raw_data/2023_05.csv\")\n"
     ]
    }
   ],
   "source": [
    "# Load the restaurant ethnicities into a DataFrame\n",
    "citi_2022 = pd.read_csv(\"raw_data/2022_05.csv\")\n",
    "citi_2023 = pd.read_csv(\"raw_data/2023_05.csv\")\n"
   ]
  },
  {
   "cell_type": "code",
   "execution_count": 4,
   "id": "515beb27-4fea-478e-ba59-8d8af5fcd5a2",
   "metadata": {},
   "outputs": [
    {
     "data": {
      "text/plain": [
       "8495"
      ]
     },
     "execution_count": 4,
     "metadata": {},
     "output_type": "execute_result"
    }
   ],
   "source": [
    "citi_2023['end_station_id'].isna().sum()"
   ]
  },
  {
   "cell_type": "code",
   "execution_count": 5,
   "id": "7a9f52d4-11f3-4ac3-bde5-975bc2eacb9f",
   "metadata": {},
   "outputs": [
    {
     "data": {
      "text/plain": [
       "ride_id               3580766\n",
       "rideable_type               3\n",
       "started_at            1627856\n",
       "ended_at              1632477\n",
       "start_station_name       1826\n",
       "start_station_id         3645\n",
       "end_station_name         1867\n",
       "end_station_id           2782\n",
       "start_lat              636391\n",
       "start_lng              551906\n",
       "end_lat                  2584\n",
       "end_lng                  2568\n",
       "member_casual               2\n",
       "dtype: int64"
      ]
     },
     "execution_count": 5,
     "metadata": {},
     "output_type": "execute_result"
    }
   ],
   "source": [
    "citi_2023.nunique()"
   ]
  },
  {
   "cell_type": "code",
   "execution_count": 6,
   "id": "b904bd85-c283-4e7e-8bcf-aab070cc9d01",
   "metadata": {},
   "outputs": [],
   "source": [
    "citi_2023 = citi_2023.dropna()"
   ]
  },
  {
   "cell_type": "code",
   "execution_count": 7,
   "id": "ef7d6b42-e7d0-4d09-9016-707b2ae6b760",
   "metadata": {},
   "outputs": [
    {
     "data": {
      "text/plain": [
       "ride_id               3572271\n",
       "rideable_type               3\n",
       "started_at            1626181\n",
       "ended_at              1630216\n",
       "start_station_name       1826\n",
       "start_station_id         3645\n",
       "end_station_name         1867\n",
       "end_station_id           2782\n",
       "start_lat              634264\n",
       "start_lng              550313\n",
       "end_lat                  2558\n",
       "end_lng                  2550\n",
       "member_casual               2\n",
       "dtype: int64"
      ]
     },
     "execution_count": 7,
     "metadata": {},
     "output_type": "execute_result"
    }
   ],
   "source": [
    "citi_2023.nunique()"
   ]
  },
  {
   "cell_type": "code",
   "execution_count": 8,
   "id": "e69060dd-12d2-46f3-a446-2a0a12974dd6",
   "metadata": {},
   "outputs": [
    {
     "data": {
      "text/plain": [
       "ride_id               2940600\n",
       "rideable_type               3\n",
       "started_at            1465633\n",
       "ended_at              1469261\n",
       "start_station_name       1554\n",
       "start_station_id         3086\n",
       "end_station_name         1592\n",
       "end_station_id           2303\n",
       "start_lat              133470\n",
       "start_lng              129428\n",
       "end_lat                  2309\n",
       "end_lng                  2295\n",
       "member_casual               2\n",
       "dtype: int64"
      ]
     },
     "execution_count": 8,
     "metadata": {},
     "output_type": "execute_result"
    }
   ],
   "source": [
    "citi_2022.nunique()"
   ]
  },
  {
   "cell_type": "code",
   "execution_count": 9,
   "id": "caca0031-d5a7-47fd-be56-3e5d41e71036",
   "metadata": {},
   "outputs": [],
   "source": [
    "citi_2022 = citi_2022.dropna()"
   ]
  },
  {
   "cell_type": "code",
   "execution_count": 10,
   "id": "39514bb1-35da-4805-bc23-572a5009401b",
   "metadata": {},
   "outputs": [
    {
     "data": {
      "text/plain": [
       "ride_id               2936577\n",
       "rideable_type               3\n",
       "started_at            1464550\n",
       "ended_at              1467902\n",
       "start_station_name       1554\n",
       "start_station_id         3086\n",
       "end_station_name         1592\n",
       "end_station_id           2303\n",
       "start_lat              132902\n",
       "start_lng              128911\n",
       "end_lat                  2282\n",
       "end_lng                  2271\n",
       "member_casual               2\n",
       "dtype: int64"
      ]
     },
     "execution_count": 10,
     "metadata": {},
     "output_type": "execute_result"
    }
   ],
   "source": [
    "citi_2022.nunique()"
   ]
  },
  {
   "cell_type": "code",
   "execution_count": 11,
   "id": "a7d8469f-6fe3-43d6-99d8-ce78cdaa413f",
   "metadata": {},
   "outputs": [],
   "source": [
    "# citi_2022.to_csv('raw_data/2022_05_clean.csv', index=False)\n",
    "# citi_2023.to_csv('raw_data/2023_05_clean.csv', index=False)"
   ]
  },
  {
   "cell_type": "code",
   "execution_count": 12,
   "id": "de773c8c-e76f-4045-9312-3ca333b4b76a",
   "metadata": {},
   "outputs": [],
   "source": [
    "frames = [citi_2022, citi_2023]\n",
    "two_year_df = pd.concat(frames)"
   ]
  },
  {
   "cell_type": "code",
   "execution_count": 38,
   "id": "3bc8e3a0-af57-40ca-a964-306cce36e297",
   "metadata": {},
   "outputs": [],
   "source": [
    "two_year_df.to_csv('raw_data/both_years_clean.csv', index=False)"
   ]
  },
  {
   "cell_type": "code",
   "execution_count": null,
   "id": "066e7d16-89f0-4067-bf16-3064ab4389b9",
   "metadata": {},
   "outputs": [],
   "source": []
  }
 ],
 "metadata": {
  "kernelspec": {
   "display_name": "Python 3 (ipykernel)",
   "language": "python",
   "name": "python3"
  },
  "language_info": {
   "codemirror_mode": {
    "name": "ipython",
    "version": 3
   },
   "file_extension": ".py",
   "mimetype": "text/x-python",
   "name": "python",
   "nbconvert_exporter": "python",
   "pygments_lexer": "ipython3",
   "version": "3.9.13"
  }
 },
 "nbformat": 4,
 "nbformat_minor": 5
}
